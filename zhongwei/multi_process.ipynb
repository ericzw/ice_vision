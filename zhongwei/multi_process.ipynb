{
 "cells": [
  {
   "cell_type": "code",
   "execution_count": 2,
   "metadata": {},
   "outputs": [
    {
     "name": "stdout",
     "output_type": "stream",
     "text": [
      "Parent process 98160.\n",
      "Waiting for all subprocesses done...\n",
      "All subprocesses done.\n"
     ]
    }
   ],
   "source": [
    "import os\n",
    "from multiprocessing import Process, Pool\n",
    "\n",
    "\n",
    "\n",
    "def run_proc(id):\n",
    "    print('=>',id)\n",
    "    os.system('python test.py')\n",
    "    \n",
    "\n",
    "if __name__ == '__main__':\n",
    "    print('Parent process %s.' % os.getpid())\n",
    "    p = Pool(4)\n",
    "    \n",
    "    for i in range(5):\n",
    "        p.apply_async(run_proc, args=(i))\n",
    "    \n",
    "    print('Waiting for all subprocesses done...')\n",
    "    p.close()\n",
    "    p.join()\n",
    "    print('All subprocesses done.')"
   ]
  },
  {
   "cell_type": "code",
   "execution_count": null,
   "metadata": {},
   "outputs": [],
   "source": [
    "import cv2\n",
    "import numpy as np\n",
    "from colour_demosaicing import demosaicing_CFA_Bayer_Menon2007\n",
    "def pnm_read(name):\n",
    "    pnm_file = name\n",
    "    pnm = cv2.imread(pnm_file,0)\n",
    "    eq = cv2.equalizeHist(pnm)\n",
    "    return demosaicing_CFA_Bayer_Menon2007(eq)"
   ]
  }
 ],
 "metadata": {
  "kernelspec": {
   "display_name": "Python 3",
   "language": "python",
   "name": "python3"
  },
  "language_info": {
   "codemirror_mode": {
    "name": "ipython",
    "version": 3
   },
   "file_extension": ".py",
   "mimetype": "text/x-python",
   "name": "python",
   "nbconvert_exporter": "python",
   "pygments_lexer": "ipython3",
   "version": "3.7.3"
  }
 },
 "nbformat": 4,
 "nbformat_minor": 2
}
